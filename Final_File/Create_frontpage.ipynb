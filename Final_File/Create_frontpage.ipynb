{
 "cells": [
  {
   "cell_type": "code",
   "execution_count": null,
   "metadata": {
    "collapsed": false
   },
   "outputs": [
    {
     "name": "stderr",
     "output_type": "stream",
     "text": [
      " * Running on http://127.0.0.1:5000/ (Press CTRL+C to quit)\n",
      "127.0.0.1 - - [08/Dec/2017 12:14:42] \"GET / HTTP/1.1\" 200 -\n",
      "127.0.0.1 - - [08/Dec/2017 12:14:42] \"GET /normalize.css HTTP/1.1\" 404 -\n",
      "127.0.0.1 - - [08/Dec/2017 12:14:42] \"GET /favicon.ico HTTP/1.1\" 404 -\n",
      "127.0.0.1 - - [08/Dec/2017 12:14:51] \"GET / HTTP/1.1\" 200 -\n",
      "127.0.0.1 - - [08/Dec/2017 12:14:51] \"GET /normalize.css HTTP/1.1\" 404 -\n",
      "127.0.0.1 - - [08/Dec/2017 12:15:38] \"GET /airbnb-restaurant HTTP/1.1\" 200 -\n",
      "127.0.0.1 - - [08/Dec/2017 12:15:38] \"GET /airbnb-restaurant HTTP/1.1\" 200 -\n",
      "127.0.0.1 - - [08/Dec/2017 12:19:01] \"GET / HTTP/1.1\" 200 -\n",
      "127.0.0.1 - - [08/Dec/2017 12:19:01] \"GET /normalize.css HTTP/1.1\" 404 -\n",
      "127.0.0.1 - - [08/Dec/2017 12:19:02] \"GET /favicon.ico HTTP/1.1\" 404 -\n",
      "127.0.0.1 - - [08/Dec/2017 12:19:33] \"GET /ML_model HTTP/1.1\" 200 -\n",
      "127.0.0.1 - - [08/Dec/2017 12:19:53] \"GET / HTTP/1.1\" 200 -\n",
      "127.0.0.1 - - [08/Dec/2017 12:19:53] \"GET /normalize.css HTTP/1.1\" 404 -\n",
      "127.0.0.1 - - [08/Dec/2017 13:34:14] \"GET /ML_model HTTP/1.1\" 200 -\n"
     ]
    }
   ],
   "source": [
    "#right now the airbnb-restraurant.html file is inside the templates folder of the current directory\n",
    "from flask import Flask, render_template, url_for\n",
    "app = Flask(__name__)\n",
    "\n",
    "@app.route(\"/\")\n",
    "def main():\n",
    "    return render_template('new.html')\n",
    "\n",
    "@app.route(\"/airbnb-restaurant\", methods=['GET'])\n",
    "def airbnb_restaurant():\n",
    "    return render_template('airbnb-restaurant.html')\n",
    "\n",
    "@app.route(\"/ML_model\", methods=['GET'])\n",
    "def ML_model():\n",
    "    return render_template('ML_model.html')\n",
    "\n",
    "if __name__==\"__main__\":\n",
    "    app.run()"
   ]
  }
 ],
 "metadata": {
  "kernelspec": {
   "display_name": "Python 3",
   "language": "python",
   "name": "python3"
  },
  "language_info": {
   "codemirror_mode": {
    "name": "ipython",
    "version": 3
   },
   "file_extension": ".py",
   "mimetype": "text/x-python",
   "name": "python",
   "nbconvert_exporter": "python",
   "pygments_lexer": "ipython3",
   "version": "3.6.0"
  }
 },
 "nbformat": 4,
 "nbformat_minor": 2
}
