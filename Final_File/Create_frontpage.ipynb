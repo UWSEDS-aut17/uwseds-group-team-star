{
 "cells": [
  {
   "cell_type": "code",
   "execution_count": 2,
   "metadata": {},
   "outputs": [
    {
     "name": "stderr",
     "output_type": "stream",
     "text": [
      " * Running on http://127.0.0.1:5000/ (Press CTRL+C to quit)\n",
      "127.0.0.1 - - [07/Dec/2017 22:39:54] \"GET / HTTP/1.1\" 200 -\n",
      "127.0.0.1 - - [07/Dec/2017 22:39:54] \"GET /normalize.css HTTP/1.1\" 404 -\n",
      "127.0.0.1 - - [07/Dec/2017 22:39:55] \"GET /ML_model HTTP/1.1\" 200 -\n",
      "127.0.0.1 - - [07/Dec/2017 22:40:07] \"GET / HTTP/1.1\" 200 -\n",
      "127.0.0.1 - - [07/Dec/2017 22:40:07] \"GET /normalize.css HTTP/1.1\" 404 -\n",
      "127.0.0.1 - - [07/Dec/2017 22:40:08] \"GET /ML_model HTTP/1.1\" 200 -\n",
      "127.0.0.1 - - [07/Dec/2017 22:40:21] \"GET /ML_model HTTP/1.1\" 200 -\n",
      "127.0.0.1 - - [07/Dec/2017 22:40:22] \"GET / HTTP/1.1\" 200 -\n",
      "127.0.0.1 - - [07/Dec/2017 22:40:22] \"GET /normalize.css HTTP/1.1\" 404 -\n",
      "127.0.0.1 - - [07/Dec/2017 22:40:27] \"GET /ML_model HTTP/1.1\" 200 -\n"
     ]
    }
   ],
   "source": [
    "#right now the airbnb-restraurant.html file is inside the templates folder of the current directory\n",
    "from flask import Flask, render_template, url_for\n",
    "app = Flask(__name__)\n",
    "\n",
    "@app.route(\"/\")\n",
    "def main():\n",
    "    return render_template('new.html')\n",
    "\n",
    "@app.route(\"/airbnb-restaurant\", methods=['GET'])\n",
    "def airbnb_restaurant():\n",
    "    return render_template('airbnb-restaurant.html')\n",
    "\n",
    "@app.route(\"/ML_model\", methods=['GET'])\n",
    "def ML_model():\n",
    "    return render_template('ML_model.html')\n",
    "\n",
    "if __name__==\"__main__\":\n",
    "    app.run()"
   ]
  }
 ],
 "metadata": {
  "kernelspec": {
   "display_name": "Python 3",
   "language": "python",
   "name": "python3"
  },
  "language_info": {
   "codemirror_mode": {
    "name": "ipython",
    "version": 3
   },
   "file_extension": ".py",
   "mimetype": "text/x-python",
   "name": "python",
   "nbconvert_exporter": "python",
   "pygments_lexer": "ipython3",
   "version": "3.6.3"
  }
 },
 "nbformat": 4,
 "nbformat_minor": 2
}
