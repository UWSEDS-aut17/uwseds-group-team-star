{
 "cells": [
  {
   "cell_type": "code",
   "execution_count": 1,
   "metadata": {
    "collapsed": true
   },
   "outputs": [],
   "source": [
    "import pandas as pd"
   ]
  },
  {
   "cell_type": "code",
   "execution_count": 2,
   "metadata": {
    "collapsed": false
   },
   "outputs": [],
   "source": [
    "restaurants_df = pd.read_csv('../Data/DOHMH_New_York_City_Restaurant_Inspection_Results.csv')"
   ]
  },
  {
   "cell_type": "code",
   "execution_count": 3,
   "metadata": {
    "collapsed": false
   },
   "outputs": [
    {
     "data": {
      "text/plain": [
       "(24957, 4)"
      ]
     },
     "execution_count": 3,
     "metadata": {},
     "output_type": "execute_result"
    }
   ],
   "source": [
    "rest_geo_df = pd.read_csv('../Data/NYC_Restaurants_Geocoded_-_Sheet1.csv')\n",
    "rest_geo_df.shape"
   ]
  },
  {
   "cell_type": "code",
   "execution_count": 4,
   "metadata": {
    "collapsed": false
   },
   "outputs": [
    {
     "data": {
      "text/plain": [
       "(24941, 6)"
      ]
     },
     "execution_count": 4,
     "metadata": {},
     "output_type": "execute_result"
    }
   ],
   "source": [
    "from cleaning import clean_restraunts_geo\n",
    "rest_geo= clean_restraunts_geo(rest_geo_df)\n",
    "rest_geo.shape"
   ]
  },
  {
   "cell_type": "code",
   "execution_count": 5,
   "metadata": {
    "collapsed": false,
    "scrolled": true
   },
   "outputs": [
    {
     "name": "stderr",
     "output_type": "stream",
     "text": [
      "C:\\Users\\scarl\\Anaconda3\\lib\\site-packages\\IPython\\core\\interactiveshell.py:2717: DtypeWarning: Columns (43,88) have mixed types. Specify dtype option on import or set low_memory=False.\n",
      "  interactivity=interactivity, compiler=compiler, result=result)\n"
     ]
    }
   ],
   "source": [
    "from cleaning import clean_airbnb_map\n",
    "airbnb_data = pd.read_csv('../Data/listings.csv')"
   ]
  },
  {
   "cell_type": "code",
   "execution_count": 6,
   "metadata": {
    "collapsed": false
   },
   "outputs": [
    {
     "data": {
      "text/plain": [
       "(36987, 17)"
      ]
     },
     "execution_count": 6,
     "metadata": {},
     "output_type": "execute_result"
    }
   ],
   "source": [
    "airbnb_data = clean_airbnb_map(airbnb_data)\n",
    "airbnb_data.shape"
   ]
  },
  {
   "cell_type": "code",
   "execution_count": 7,
   "metadata": {
    "collapsed": true
   },
   "outputs": [],
   "source": [
    "from markers import popup_frame"
   ]
  },
  {
   "cell_type": "code",
   "execution_count": 9,
   "metadata": {
    "collapsed": false,
    "scrolled": false
   },
   "outputs": [
    {
     "name": "stdout",
     "output_type": "stream",
     "text": [
      "rest_geo start\n",
      "rest_geo addFeature Group\n",
      "rest_geo end\n",
      "aribnb start\n"
     ]
    },
    {
     "ename": "TypeError",
     "evalue": "__init__() got multiple values for argument 'popup'",
     "output_type": "error",
     "traceback": [
      "\u001b[0;31m---------------------------------------------------------------------------\u001b[0m",
      "\u001b[0;31mTypeError\u001b[0m                                 Traceback (most recent call last)",
      "\u001b[0;32m<ipython-input-9-27bc2736cbde>\u001b[0m in \u001b[0;36m<module>\u001b[0;34m()\u001b[0m\n\u001b[1;32m     33\u001b[0m     \u001b[0mpopup\u001b[0m \u001b[1;33m=\u001b[0m \u001b[0mfolium\u001b[0m\u001b[1;33m.\u001b[0m\u001b[0mPopup\u001b[0m\u001b[1;33m(\u001b[0m\u001b[0miframe\u001b[0m\u001b[1;33m,\u001b[0m \u001b[0mmax_width\u001b[0m\u001b[1;33m=\u001b[0m\u001b[1;36m2650\u001b[0m\u001b[1;33m)\u001b[0m\u001b[1;33m\u001b[0m\u001b[0m\n\u001b[1;32m     34\u001b[0m     folium.Marker(each[1]['latitude'], each[1]['longitude'], popup = popup,\n\u001b[0;32m---> 35\u001b[0;31m                  icon=folium.Icon(icon='home',color='blue')).add_to(marker_cluster_airbnb)\n\u001b[0m\u001b[1;32m     36\u001b[0m \u001b[1;33m\u001b[0m\u001b[0m\n\u001b[1;32m     37\u001b[0m \u001b[0mprint\u001b[0m\u001b[1;33m(\u001b[0m\u001b[1;34m'aribnb_feature start'\u001b[0m\u001b[1;33m)\u001b[0m\u001b[1;33m\u001b[0m\u001b[0m\n",
      "\u001b[0;31mTypeError\u001b[0m: __init__() got multiple values for argument 'popup'"
     ]
    }
   ],
   "source": [
    "import folium\n",
    "import branca\n",
    "from folium.plugins import MarkerCluster\n",
    "import json\n",
    "import os\n",
    "\n",
    "NY_COORDINATES = (40.730610, -73.935242)\n",
    "# ny_boro = os.path.join('data', 'boroughs.geojson')\n",
    "# geo_json_data = json.load(open(ny_boro))\n",
    "\n",
    "map = folium.Map(location=NY_COORDINATES, zoom_start=10)\n",
    "marker_cluster = MarkerCluster()\n",
    "\n",
    "print('rest_geo start')\n",
    "for each in rest_geo[0:100].iterrows():\n",
    "    popup = folium.Popup(each[1]['Name'], parse_html=True)\n",
    "    folium.Marker(\n",
    "        [each[1]['Latitude'],each[1]['Longitude']], popup = popup ,\n",
    "        icon=folium.Icon(icon='cutlery', color='red')).add_to(marker_cluster)\n",
    "print('rest_geo addFeature Group')\n",
    "r = folium.FeatureGroup(name='Restaurants')\n",
    "r.add_child(marker_cluster)\n",
    "map.add_child(r)\n",
    "\n",
    "print('rest_geo end')\n",
    "print('aribnb start')\n",
    "\n",
    "marker_cluster_airbnb = MarkerCluster()\n",
    "\n",
    "for each in airbnb_data[0:100].iterrows():\n",
    "    info = \"<h4>Listing Info</h4><br><img src=\"+str(each[1]['picture_url'])+\"><br>\"\n",
    "    iframe = folium.IFrame(html=info, width=500, height=300)\n",
    "    popup = folium.Popup(iframe, max_width=2650)\n",
    "    folium.Marker(each[1]['latitude'], each[1]['longitude'], popup = popup,\n",
    "                 icon=folium.Icon(icon='home',color='blue')).add_to(marker_cluster_airbnb)\n",
    "    \n",
    "print('aribnb_feature start')\n",
    "a = folium.FeatureGroup(name='Airbnb')\n",
    "a.add_child(marker_cluster_airbnb)\n",
    "\n",
    "map.add_child(a)\n",
    "\n",
    "print('airbnb end')\n",
    "\n",
    "# Color Legend\n",
    "'''\n",
    "colormap.caption = 'Total Restaurants color scale'\n",
    "colormap.add_to(map)\n",
    "'''\n",
    "map.add_child(folium.LayerControl())"
   ]
  },
  {
   "cell_type": "code",
   "execution_count": null,
   "metadata": {
    "collapsed": true
   },
   "outputs": [],
   "source": [
    "# map.save('airbnb-restaurant.html')"
   ]
  },
  {
   "cell_type": "code",
   "execution_count": null,
   "metadata": {
    "collapsed": false
   },
   "outputs": [],
   "source": [
    "airbnb_data.head()"
   ]
  },
  {
   "cell_type": "code",
   "execution_count": null,
   "metadata": {
    "collapsed": false
   },
   "outputs": [],
   "source": [
    "for each in airbnb_data[0:100].iterrows():\n",
    "    print (popup_frame(each[1]))"
   ]
  },
  {
   "cell_type": "code",
   "execution_count": null,
   "metadata": {
    "collapsed": false
   },
   "outputs": [],
   "source": [
    "m = folium.Map([43, -100], zoom_start=4)\n",
    "\n",
    "html = \"\"\"\n",
    "    <h1> This popup is an Iframe</h1><br>\n",
    "    With a few lines of code...\n",
    "    <p>\n",
    "    <code>\n",
    "        from numpy import *<br>\n",
    "        exp(-2*pi)\n",
    "    </code>\n",
    "    </p>\n",
    "    \"\"\"\n",
    "\n",
    "iframe = branca.element.IFrame(html=html, width=500, height=300)\n",
    "popup = folium.Popup(iframe, max_width=500)\n",
    "\n",
    "folium.Marker([30, -100], popup=popup).add_to(m)\n",
    "print(html)\n",
    "\n",
    "m"
   ]
  }
 ],
 "metadata": {
  "kernelspec": {
   "display_name": "Python 3",
   "language": "python",
   "name": "python3"
  },
  "language_info": {
   "codemirror_mode": {
    "name": "ipython",
    "version": 3
   },
   "file_extension": ".py",
   "mimetype": "text/x-python",
   "name": "python",
   "nbconvert_exporter": "python",
   "pygments_lexer": "ipython3",
   "version": "3.6.0"
  }
 },
 "nbformat": 4,
 "nbformat_minor": 2
}
