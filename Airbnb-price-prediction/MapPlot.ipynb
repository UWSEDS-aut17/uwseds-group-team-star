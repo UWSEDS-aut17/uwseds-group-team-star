{
 "cells": [
  {
   "cell_type": "code",
   "execution_count": 2,
   "metadata": {
    "collapsed": true
   },
   "outputs": [],
   "source": [
    "import pandas as pd"
   ]
  },
  {
   "cell_type": "code",
   "execution_count": 3,
   "metadata": {
    "collapsed": false
   },
   "outputs": [],
   "source": [
    "# Import the Restaurant Data\n",
    "restaurants_df = pd.read_csv('../Data/DOHMH_New_York_City_Restaurant_Inspection_Results.csv')"
   ]
  },
  {
   "cell_type": "code",
   "execution_count": 4,
   "metadata": {
    "collapsed": false
   },
   "outputs": [
    {
     "data": {
      "text/plain": [
       "(24957, 4)"
      ]
     },
     "execution_count": 4,
     "metadata": {},
     "output_type": "execute_result"
    }
   ],
   "source": [
    "# Import Restaurant Geocoded data\n",
    "rest_geo_df = pd.read_csv('../Data/NYC_Restaurants_Geocoded_-_Sheet1.csv')\n",
    "rest_geo_df.shape"
   ]
  },
  {
   "cell_type": "code",
   "execution_count": 5,
   "metadata": {
    "collapsed": false
   },
   "outputs": [
    {
     "data": {
      "text/plain": [
       "(24941, 6)"
      ]
     },
     "execution_count": 5,
     "metadata": {},
     "output_type": "execute_result"
    }
   ],
   "source": [
    "# Import the cleaning function and clean the restaurant data for required rows\n",
    "from cleaning import clean_restraunts_geo\n",
    "rest_geo= clean_restraunts_geo(rest_geo_df)\n",
    "rest_geo.shape"
   ]
  },
  {
   "cell_type": "code",
   "execution_count": 6,
   "metadata": {
    "collapsed": false,
    "scrolled": true
   },
   "outputs": [
    {
     "name": "stderr",
     "output_type": "stream",
     "text": [
      "C:\\Users\\scarl\\Anaconda3\\lib\\site-packages\\IPython\\core\\interactiveshell.py:2717: DtypeWarning: Columns (43,88) have mixed types. Specify dtype option on import or set low_memory=False.\n",
      "  interactivity=interactivity, compiler=compiler, result=result)\n"
     ]
    },
    {
     "data": {
      "text/plain": [
       "(36987, 17)"
      ]
     },
     "execution_count": 6,
     "metadata": {},
     "output_type": "execute_result"
    }
   ],
   "source": [
    "# Import the cleaning function and clean the airbnb data for the required rows\n",
    "from cleaning import clean_airbnb_map\n",
    "airbnb_data = pd.read_csv('../Data/listings.csv')\n",
    "airbnb_data = clean_airbnb_map(airbnb_data)\n",
    "airbnb_data.shape"
   ]
  },
  {
   "cell_type": "code",
   "execution_count": 7,
   "metadata": {
    "collapsed": false,
    "scrolled": false
   },
   "outputs": [
    {
     "name": "stdout",
     "output_type": "stream",
     "text": [
      "rest_geo start\n",
      "rest_geo addFeature Group\n",
      "rest_geo end\n",
      "aribnb start\n",
      "aribnb_feature start\n",
      "airbnb end\n"
     ]
    }
   ],
   "source": [
    "import folium\n",
    "import branca\n",
    "from folium.plugins import MarkerCluster\n",
    "import json\n",
    "import os\n",
    "from markers import airbnb_popup_frame\n",
    "\n",
    "# Centralize the map on New York City\n",
    "NY_COORDINATES = (40.730610, -73.935242)\n",
    "map = folium.Map(location=NY_COORDINATES, zoom_start=10)\n",
    "marker_cluster = MarkerCluster()\n",
    "\n",
    "print('rest_geo start')\n",
    "for each in rest_geo.iterrows():\n",
    "    popup = folium.Popup(each[1]['Name'].title(), parse_html=True)\n",
    "    folium.Marker(\n",
    "        [each[1]['Latitude'],each[1]['Longitude']], popup = popup,\n",
    "        icon=folium.Icon(icon='cutlery', color='red')).add_to(marker_cluster)\n",
    "print('rest_geo addFeature Group')\n",
    "r = folium.FeatureGroup(name='Restaurants')\n",
    "r.add_child(marker_cluster)\n",
    "map.add_child(r)\n",
    "\n",
    "print('rest_geo end')\n",
    "print('aribnb start')\n",
    "\n",
    "# Create map cluster for airbnb listings\n",
    "marker_cluster_airbnb = MarkerCluster()\n",
    "\n",
    "# Create each marker and plot it on the map\n",
    "for each in airbnb_data[1:20000].iterrows():\n",
    "    popup = airbnb_popup_frame(each[1])\n",
    "    folium.Marker([each[1]['latitude'], each[1]['longitude']], popup = popup,\n",
    "                 icon=folium.Icon(icon='home',color='blue')).add_to(marker_cluster_airbnb)\n",
    "    \n",
    "print('aribnb_feature start')\n",
    "a = folium.FeatureGroup(name='Airbnb')\n",
    "a.add_child(marker_cluster_airbnb)\n",
    "\n",
    "map.add_child(a)\n",
    "\n",
    "print('airbnb end')\n",
    "\n",
    "# Add layers for restaurants and airbnb listings\n",
    "map.add_child(folium.LayerControl())\n",
    "\n",
    "# Save the map to an html file\n",
    "map.save('../Examples/airbnb-restaurant.html')"
   ]
  }
 ],
 "metadata": {
  "kernelspec": {
   "display_name": "Python 3",
   "language": "python",
   "name": "python3"
  },
  "language_info": {
   "codemirror_mode": {
    "name": "ipython",
    "version": 3
   },
   "file_extension": ".py",
   "mimetype": "text/x-python",
   "name": "python",
   "nbconvert_exporter": "python",
   "pygments_lexer": "ipython3",
   "version": "3.6.0"
  }
 },
 "nbformat": 4,
 "nbformat_minor": 2
}
